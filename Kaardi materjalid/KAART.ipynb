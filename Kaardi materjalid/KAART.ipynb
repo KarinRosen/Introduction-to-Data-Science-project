{
 "cells": [
  {
   "cell_type": "code",
   "execution_count": 12,
   "id": "3a1a2b74",
   "metadata": {},
   "outputs": [
    {
     "ename": "SyntaxError",
     "evalue": "invalid syntax (4016645815.py, line 1)",
     "output_type": "error",
     "traceback": [
      "\u001b[1;36m  Input \u001b[1;32mIn [12]\u001b[1;36m\u001b[0m\n\u001b[1;33m    pip install geopandas\u001b[0m\n\u001b[1;37m        ^\u001b[0m\n\u001b[1;31mSyntaxError\u001b[0m\u001b[1;31m:\u001b[0m invalid syntax\n"
     ]
    }
   ],
   "source": [
    "pip install geopandas\n",
    "\n",
    "import numpy as np\n",
    "import pandas as pd\n",
    "import shapefile as shp\n",
    "import matplotlib.pyplot as plt\n",
    "import seaborn as sns\n",
    "from IPython.display import display, HTML"
   ]
  },
  {
   "cell_type": "code",
   "execution_count": 7,
   "id": "4144c39b",
   "metadata": {
    "scrolled": false
   },
   "outputs": [
    {
     "ename": "ModuleNotFoundError",
     "evalue": "No module named 'geopandas'",
     "output_type": "error",
     "traceback": [
      "\u001b[1;31m---------------------------------------------------------------------------\u001b[0m",
      "\u001b[1;31mModuleNotFoundError\u001b[0m                       Traceback (most recent call last)",
      "Input \u001b[1;32mIn [7]\u001b[0m, in \u001b[0;36m<cell line: 1>\u001b[1;34m()\u001b[0m\n\u001b[1;32m----> 1\u001b[0m \u001b[38;5;28;01mimport\u001b[39;00m \u001b[38;5;21;01mgeopandas\u001b[39;00m \u001b[38;5;28;01mas\u001b[39;00m \u001b[38;5;21;01mgpd\u001b[39;00m\n\u001b[0;32m      2\u001b[0m df \u001b[38;5;241m=\u001b[39m gpd\u001b[38;5;241m.\u001b[39mread_file(\u001b[38;5;124m\"\u001b[39m\u001b[38;5;124mmaakond_20221201.shp\u001b[39m\u001b[38;5;124m\"\u001b[39m)\n",
      "\u001b[1;31mModuleNotFoundError\u001b[0m: No module named 'geopandas'"
     ]
    }
   ],
   "source": [
    "import geopandas as gpd\n",
    "df = gpd.read_file(\"maakond_20221201.shp\")\n",
    "#fig, ax = plt.subplots()\n",
    "#df.plot(ax=ax,color='white', edgecolor='black')\n",
    "#ax.set_aspect('equal')\n",
    "#plt.show()"
   ]
  },
  {
   "cell_type": "code",
   "execution_count": 8,
   "id": "53cd0ad6",
   "metadata": {},
   "outputs": [
    {
     "ename": "NameError",
     "evalue": "name 'df' is not defined",
     "output_type": "error",
     "traceback": [
      "\u001b[1;31m---------------------------------------------------------------------------\u001b[0m",
      "\u001b[1;31mNameError\u001b[0m                                 Traceback (most recent call last)",
      "Input \u001b[1;32mIn [8]\u001b[0m, in \u001b[0;36m<cell line: 1>\u001b[1;34m()\u001b[0m\n\u001b[1;32m----> 1\u001b[0m df \u001b[38;5;241m=\u001b[39m \u001b[43mdf\u001b[49m\u001b[38;5;241m.\u001b[39msort_values(\u001b[38;5;124m\"\u001b[39m\u001b[38;5;124mMNIMI\u001b[39m\u001b[38;5;124m\"\u001b[39m, ascending\u001b[38;5;241m=\u001b[39m\u001b[38;5;28;01mTrue\u001b[39;00m)\u001b[38;5;241m.\u001b[39mreset_index(drop\u001b[38;5;241m=\u001b[39m\u001b[38;5;28;01mTrue\u001b[39;00m)\n\u001b[0;32m      2\u001b[0m df \u001b[38;5;241m=\u001b[39m df\u001b[38;5;241m.\u001b[39mrename(columns\u001b[38;5;241m=\u001b[39m{\u001b[38;5;124m\"\u001b[39m\u001b[38;5;124mMNIMI\u001b[39m\u001b[38;5;124m\"\u001b[39m: \u001b[38;5;124m\"\u001b[39m\u001b[38;5;124mMAAKOND\u001b[39m\u001b[38;5;124m\"\u001b[39m})\n\u001b[0;32m      3\u001b[0m df \u001b[38;5;241m=\u001b[39m df\u001b[38;5;241m.\u001b[39mdrop(columns\u001b[38;5;241m=\u001b[39m\u001b[38;5;124m\"\u001b[39m\u001b[38;5;124mMKOOD\u001b[39m\u001b[38;5;124m\"\u001b[39m)\n",
      "\u001b[1;31mNameError\u001b[0m: name 'df' is not defined"
     ]
    }
   ],
   "source": [
    "df = df.sort_values(\"MNIMI\", ascending=True).reset_index(drop=True)\n",
    "df = df.rename(columns={\"MNIMI\": \"MAAKOND\"})\n",
    "df = df.drop(columns=\"MKOOD\")"
   ]
  },
  {
   "cell_type": "code",
   "execution_count": null,
   "id": "1a2b6547",
   "metadata": {},
   "outputs": [],
   "source": [
    "df"
   ]
  },
  {
   "cell_type": "code",
   "execution_count": null,
   "id": "735c647b",
   "metadata": {
    "scrolled": true
   },
   "outputs": [],
   "source": [
    "lahutused = pd.read_csv(\"../kuud_maakonnad_lahutus.csv\")\n",
    "lahutused = lahutused.drop(140)"
   ]
  },
  {
   "cell_type": "code",
   "execution_count": null,
   "id": "fad6cf51",
   "metadata": {
    "scrolled": true
   },
   "outputs": [],
   "source": [
    "abielud = pd.read_csv(\"../abielud_kuud_maakonnad.csv\")\n",
    "abielud"
   ]
  },
  {
   "cell_type": "code",
   "execution_count": null,
   "id": "1a2d9865",
   "metadata": {
    "scrolled": true
   },
   "outputs": [],
   "source": [
    "lahutused[\"Mehe elukoht\"].value_counts()\n",
    "\n",
    "lahutused = lahutused[lahutused['Mehe elukoht'] != '..Tallinn'].reset_index(drop=True)\n",
    "lahutused"
   ]
  },
  {
   "cell_type": "code",
   "execution_count": null,
   "id": "2607daab",
   "metadata": {
    "scrolled": false
   },
   "outputs": [],
   "source": [
    "abielud['Mehe elukoht'].value_counts()\n",
    "abielud = abielud[abielud['Mehe elukoht'] != 'Tallinn'].reset_index(drop=True)\n",
    "abielud"
   ]
  },
  {
   "cell_type": "code",
   "execution_count": 2,
   "id": "1a61a9c1",
   "metadata": {},
   "outputs": [
    {
     "ename": "NameError",
     "evalue": "name 'lahutused' is not defined",
     "output_type": "error",
     "traceback": [
      "\u001b[1;31m---------------------------------------------------------------------------\u001b[0m",
      "\u001b[1;31mNameError\u001b[0m                                 Traceback (most recent call last)",
      "Input \u001b[1;32mIn [2]\u001b[0m, in \u001b[0;36m<cell line: 1>\u001b[1;34m()\u001b[0m\n\u001b[1;32m----> 1\u001b[0m lahutused_lahku \u001b[38;5;241m=\u001b[39m \u001b[43mlahutused\u001b[49m\u001b[38;5;241m.\u001b[39mgroupby([\u001b[38;5;124m'\u001b[39m\u001b[38;5;124mAsustuspiirkonna liik\u001b[39m\u001b[38;5;124m'\u001b[39m,\u001b[38;5;124m'\u001b[39m\u001b[38;5;124mMehe elukoht\u001b[39m\u001b[38;5;124m'\u001b[39m])\u001b[38;5;241m.\u001b[39msum()\u001b[38;5;241m.\u001b[39mreset_index()\n\u001b[0;32m      2\u001b[0m abielud_lahku \u001b[38;5;241m=\u001b[39m abielud\u001b[38;5;241m.\u001b[39mgroupby([\u001b[38;5;124m'\u001b[39m\u001b[38;5;124mAsustuspiirkonna liik\u001b[39m\u001b[38;5;124m'\u001b[39m,\u001b[38;5;124m'\u001b[39m\u001b[38;5;124mMehe elukoht\u001b[39m\u001b[38;5;124m'\u001b[39m])\u001b[38;5;241m.\u001b[39msum()\u001b[38;5;241m.\u001b[39mreset_index()\n\u001b[0;32m      3\u001b[0m lahutused_lahku[\u001b[38;5;124m'\u001b[39m\u001b[38;5;124mAasta\u001b[39m\u001b[38;5;124m'\u001b[39m] \u001b[38;5;241m=\u001b[39m \u001b[38;5;124m'\u001b[39m\u001b[38;5;124m2017-2021\u001b[39m\u001b[38;5;124m'\u001b[39m\n",
      "\u001b[1;31mNameError\u001b[0m: name 'lahutused' is not defined"
     ]
    }
   ],
   "source": [
    "lahutused_lahku = lahutused.groupby(['Asustuspiirkonna liik','Mehe elukoht']).sum().reset_index()\n",
    "abielud_lahku = abielud.groupby(['Asustuspiirkonna liik','Mehe elukoht']).sum().reset_index()\n",
    "lahutused_lahku['Aasta'] = '2017-2021'\n",
    "abielud_lahku['Aasta'] = '2017-2021'\n",
    "\n",
    "\n",
    "abielud_lahku['Kuud kokku'] = abielud_lahku.apply(lambda row: row.Jaanuar + row.Veebruar + row.Märts + row.Aprill + row.Mai + row.Juuni + row.Juuli + row.August + row.September + row.Oktoober + row.November + row.Detsember, axis=1)\n",
    "abielud_lahku = abielud_lahku[['Asustuspiirkonna liik', 'Mehe elukoht', 'Aasta', 'Kuud kokku', 'Jaanuar', 'Veebruar', 'Märts', 'Aprill',\n",
    "       'Mai', 'Juuni', 'Juuli', 'August', 'September', 'Oktoober', 'November',\n",
    "       'Detsember']]\n",
    "\n",
    "display(lahutused_lahku)"
   ]
  },
  {
   "cell_type": "code",
   "execution_count": 3,
   "id": "9322d9d1",
   "metadata": {
    "scrolled": true
   },
   "outputs": [
    {
     "ename": "NameError",
     "evalue": "name 'lahutused' is not defined",
     "output_type": "error",
     "traceback": [
      "\u001b[1;31m---------------------------------------------------------------------------\u001b[0m",
      "\u001b[1;31mNameError\u001b[0m                                 Traceback (most recent call last)",
      "Input \u001b[1;32mIn [3]\u001b[0m, in \u001b[0;36m<cell line: 1>\u001b[1;34m()\u001b[0m\n\u001b[1;32m----> 1\u001b[0m lahutused_mk \u001b[38;5;241m=\u001b[39m \u001b[43mlahutused\u001b[49m\u001b[38;5;241m.\u001b[39mgroupby([\u001b[38;5;124m'\u001b[39m\u001b[38;5;124mMehe elukoht\u001b[39m\u001b[38;5;124m'\u001b[39m])\u001b[38;5;241m.\u001b[39msum()\u001b[38;5;241m.\u001b[39mreset_index()\n\u001b[0;32m      2\u001b[0m abielud_mk \u001b[38;5;241m=\u001b[39m abielud\u001b[38;5;241m.\u001b[39mgroupby([\u001b[38;5;124m'\u001b[39m\u001b[38;5;124mMehe elukoht\u001b[39m\u001b[38;5;124m'\u001b[39m])\u001b[38;5;241m.\u001b[39msum()\u001b[38;5;241m.\u001b[39mreset_index()\n\u001b[0;32m      3\u001b[0m lahutused_mk[\u001b[38;5;124m'\u001b[39m\u001b[38;5;124mAasta\u001b[39m\u001b[38;5;124m'\u001b[39m] \u001b[38;5;241m=\u001b[39m \u001b[38;5;124m'\u001b[39m\u001b[38;5;124m2017-2021\u001b[39m\u001b[38;5;124m'\u001b[39m\n",
      "\u001b[1;31mNameError\u001b[0m: name 'lahutused' is not defined"
     ]
    }
   ],
   "source": [
    "lahutused_mk = lahutused.groupby(['Mehe elukoht']).sum().reset_index()\n",
    "abielud_mk = abielud.groupby(['Mehe elukoht']).sum().reset_index()\n",
    "lahutused_mk['Aasta'] = '2017-2021'\n",
    "abielud_mk['Aasta'] = '2017-2021'\n",
    "abielud_mk['Kuud kokku'] = abielud_mk.apply(lambda row: row.Jaanuar + row.Veebruar + row.Märts + row.Aprill + row.Mai + row.Juuni + row.Juuli + row.August + row.September + row.Oktoober + row.November + row.Detsember, axis=1)\n",
    "abielud_mk = abielud_mk[['Mehe elukoht', 'Aasta', 'Kuud kokku', 'Jaanuar', 'Veebruar', 'Märts', 'Aprill',\n",
    "       'Mai', 'Juuni', 'Juuli', 'August', 'September', 'Oktoober', 'November',\n",
    "       'Detsember']]\n",
    "abielud_mk"
   ]
  },
  {
   "cell_type": "code",
   "execution_count": 4,
   "id": "4ba5f69c",
   "metadata": {
    "scrolled": false
   },
   "outputs": [
    {
     "ename": "NameError",
     "evalue": "name 'abielud_mk' is not defined",
     "output_type": "error",
     "traceback": [
      "\u001b[1;31m---------------------------------------------------------------------------\u001b[0m",
      "\u001b[1;31mNameError\u001b[0m                                 Traceback (most recent call last)",
      "Input \u001b[1;32mIn [4]\u001b[0m, in \u001b[0;36m<cell line: 3>\u001b[1;34m()\u001b[0m\n\u001b[0;32m      1\u001b[0m osakaal \u001b[38;5;241m=\u001b[39m pd\u001b[38;5;241m.\u001b[39mDataFrame(columns\u001b[38;5;241m=\u001b[39m[\u001b[38;5;124m'\u001b[39m\u001b[38;5;124mMaakond\u001b[39m\u001b[38;5;124m'\u001b[39m, \u001b[38;5;124m'\u001b[39m\u001b[38;5;124mProtsent\u001b[39m\u001b[38;5;124m'\u001b[39m, \u001b[38;5;124m'\u001b[39m\u001b[38;5;124mLinnaline ja väikelinnaline asustuspiirkond\u001b[39m\u001b[38;5;124m'\u001b[39m, \u001b[38;5;124m'\u001b[39m\u001b[38;5;124mMaaline asustuspiirkond\u001b[39m\u001b[38;5;124m'\u001b[39m])\n\u001b[0;32m      3\u001b[0m \u001b[38;5;28;01mfor\u001b[39;00m i \u001b[38;5;129;01min\u001b[39;00m \u001b[38;5;28mrange\u001b[39m(\u001b[38;5;241m15\u001b[39m):\n\u001b[1;32m----> 4\u001b[0m     maakond \u001b[38;5;241m=\u001b[39m \u001b[43mabielud_mk\u001b[49m\u001b[38;5;241m.\u001b[39miloc[i][\u001b[38;5;124m'\u001b[39m\u001b[38;5;124mMehe elukoht\u001b[39m\u001b[38;5;124m'\u001b[39m]\n\u001b[0;32m      5\u001b[0m     abielusid \u001b[38;5;241m=\u001b[39m abielud_mk\u001b[38;5;241m.\u001b[39miloc[i][\u001b[38;5;124m'\u001b[39m\u001b[38;5;124mKuud kokku\u001b[39m\u001b[38;5;124m'\u001b[39m]\n\u001b[0;32m      6\u001b[0m     lahutusi \u001b[38;5;241m=\u001b[39m lahutused_mk\u001b[38;5;241m.\u001b[39miloc[i][\u001b[38;5;124m'\u001b[39m\u001b[38;5;124mKuud kokku\u001b[39m\u001b[38;5;124m'\u001b[39m]\n",
      "\u001b[1;31mNameError\u001b[0m: name 'abielud_mk' is not defined"
     ]
    }
   ],
   "source": [
    "osakaal = pd.DataFrame(columns=['Maakond', 'Protsent', 'Linnaline ja väikelinnaline asustuspiirkond', 'Maaline asustuspiirkond'])\n",
    "\n",
    "for i in range(15):\n",
    "    maakond = abielud_mk.iloc[i]['Mehe elukoht']\n",
    "    abielusid = abielud_mk.iloc[i]['Kuud kokku']\n",
    "    lahutusi = lahutused_mk.iloc[i]['Kuud kokku']\n",
    "    \n",
    "    abielusid_linnas = abielud_lahku.iloc[i]['Kuud kokku']\n",
    "    lahutusi_linnas = lahutused_lahku.iloc[i]['Kuud kokku']\n",
    "    \n",
    "    abielusid_maal = abielud_lahku.iloc[i+15]['Kuud kokku']\n",
    "    lahutusi_maal = lahutused_lahku.iloc[i+15]['Kuud kokku']\n",
    "    \n",
    "    protsent = round(lahutusi/abielusid, 3)\n",
    "    linn = round(lahutusi_linnas/abielusid_linnas, 3)\n",
    "    maa = round(lahutusi_maal/abielusid_maal, 3) \n",
    "    osakaal.loc[i] = [maakond, protsent, linn, maa]\n",
    "\n",
    "df[\"Lahutused/Abielud\"] = osakaal.Protsent\n",
    "df[\"Millest linnaline ja väikelinnaline asustuspiirkond\"] = osakaal[\"Linnaline ja väikelinnaline asustuspiirkond\"]\n",
    "df[\"Millest maaline asustuspiirkond\"] = osakaal['Maaline asustuspiirkond']\n",
    "\n",
    "df['Millest linnaline ja väikelinnaline asustuspiirkond'] = df['Millest linnaline ja väikelinnaline asustuspiirkond'].fillna('Puudub')\n",
    "df"
   ]
  },
  {
   "cell_type": "code",
   "execution_count": 5,
   "id": "54643254",
   "metadata": {},
   "outputs": [
    {
     "ename": "NameError",
     "evalue": "name 'df' is not defined",
     "output_type": "error",
     "traceback": [
      "\u001b[1;31m---------------------------------------------------------------------------\u001b[0m",
      "\u001b[1;31mNameError\u001b[0m                                 Traceback (most recent call last)",
      "Input \u001b[1;32mIn [5]\u001b[0m, in \u001b[0;36m<cell line: 1>\u001b[1;34m()\u001b[0m\n\u001b[1;32m----> 1\u001b[0m \u001b[43mdf\u001b[49m\u001b[38;5;241m.\u001b[39mexplore(\n\u001b[0;32m      2\u001b[0m      column\u001b[38;5;241m=\u001b[39m\u001b[38;5;124m\"\u001b[39m\u001b[38;5;124mLahutused/Abielud\u001b[39m\u001b[38;5;124m\"\u001b[39m, \n\u001b[0;32m      3\u001b[0m      tooltip\u001b[38;5;241m=\u001b[39m\u001b[38;5;124m\"\u001b[39m\u001b[38;5;124mMAAKOND\u001b[39m\u001b[38;5;124m\"\u001b[39m,\n\u001b[0;32m      4\u001b[0m      popup\u001b[38;5;241m=\u001b[39m\u001b[38;5;28;01mTrue\u001b[39;00m, \n\u001b[0;32m      5\u001b[0m      tiles\u001b[38;5;241m=\u001b[39m\u001b[38;5;124m\"\u001b[39m\u001b[38;5;124mCartoDB positron\u001b[39m\u001b[38;5;124m\"\u001b[39m,\n\u001b[0;32m      6\u001b[0m      cmap\u001b[38;5;241m=\u001b[39m\u001b[38;5;124m\"\u001b[39m\u001b[38;5;124mGreens\u001b[39m\u001b[38;5;124m\"\u001b[39m,\n\u001b[0;32m      7\u001b[0m      style_kwds\u001b[38;5;241m=\u001b[39m\u001b[38;5;28mdict\u001b[39m(color\u001b[38;5;241m=\u001b[39m\u001b[38;5;124m\"\u001b[39m\u001b[38;5;124mblack\u001b[39m\u001b[38;5;124m\"\u001b[39m)\n\u001b[0;32m      8\u001b[0m     )\n",
      "\u001b[1;31mNameError\u001b[0m: name 'df' is not defined"
     ]
    }
   ],
   "source": [
    "df.explore(\n",
    "     column=\"Lahutused/Abielud\", \n",
    "     tooltip=\"MAAKOND\",\n",
    "     popup=True, \n",
    "     tiles=\"CartoDB positron\",\n",
    "     cmap=\"Greens\",\n",
    "     style_kwds=dict(color=\"black\")\n",
    "    )"
   ]
  },
  {
   "cell_type": "code",
   "execution_count": null,
   "id": "1f7b316d",
   "metadata": {},
   "outputs": [],
   "source": []
  },
  {
   "cell_type": "code",
   "execution_count": null,
   "id": "54cb1352",
   "metadata": {},
   "outputs": [],
   "source": []
  },
  {
   "cell_type": "code",
   "execution_count": null,
   "id": "be11828d",
   "metadata": {},
   "outputs": [],
   "source": []
  }
 ],
 "metadata": {
  "kernelspec": {
   "display_name": "Python 3 (ipykernel)",
   "language": "python",
   "name": "python3"
  },
  "language_info": {
   "codemirror_mode": {
    "name": "ipython",
    "version": 3
   },
   "file_extension": ".py",
   "mimetype": "text/x-python",
   "name": "python",
   "nbconvert_exporter": "python",
   "pygments_lexer": "ipython3",
   "version": "3.9.12"
  }
 },
 "nbformat": 4,
 "nbformat_minor": 5
}
