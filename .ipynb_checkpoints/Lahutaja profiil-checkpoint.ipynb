{
 "cells": [
  {
   "cell_type": "code",
   "execution_count": 1,
   "id": "285446b9",
   "metadata": {},
   "outputs": [],
   "source": [
    "import pandas as pd\n",
    "import matplotlib.pyplot as plt\n",
    "import numpy as np\n",
    "import matplotlib.colors as mcolors\n",
    "from calendar import month_name as mn"
   ]
  },
  {
   "cell_type": "markdown",
   "id": "8b520b72",
   "metadata": {},
   "source": [
    "## Lahutamiskuu"
   ]
  },
  {
   "cell_type": "code",
   "execution_count": 12,
   "id": "21c6f656",
   "metadata": {},
   "outputs": [],
   "source": [
    "data = pd.read_csv('RV288U_lahutamiskuu.csv')"
   ]
  },
  {
   "cell_type": "code",
   "execution_count": 16,
   "id": "420fd317",
   "metadata": {},
   "outputs": [],
   "source": [
    "data = data.drop(columns = 'Asustuspiirkonna liik')"
   ]
  },
  {
   "cell_type": "code",
   "execution_count": 17,
   "id": "c54d906d",
   "metadata": {},
   "outputs": [],
   "source": [
    "data[\"Aastad kokku\"] = data['2017'].astype(int) + data[\"2018\"] + data[\"2019\"] + data[\"2020\"] + data[\"2021\"]"
   ]
  },
  {
   "cell_type": "code",
   "execution_count": 18,
   "id": "3a2aebcf",
   "metadata": {},
   "outputs": [
    {
     "data": {
      "text/html": [
       "<div>\n",
       "<style scoped>\n",
       "    .dataframe tbody tr th:only-of-type {\n",
       "        vertical-align: middle;\n",
       "    }\n",
       "\n",
       "    .dataframe tbody tr th {\n",
       "        vertical-align: top;\n",
       "    }\n",
       "\n",
       "    .dataframe thead th {\n",
       "        text-align: right;\n",
       "    }\n",
       "</style>\n",
       "<table border=\"1\" class=\"dataframe\">\n",
       "  <thead>\n",
       "    <tr style=\"text-align: right;\">\n",
       "      <th></th>\n",
       "      <th>Lahutamiskuu</th>\n",
       "      <th>2017</th>\n",
       "      <th>2018</th>\n",
       "      <th>2019</th>\n",
       "      <th>2020</th>\n",
       "      <th>2021</th>\n",
       "      <th>Aastad kokku</th>\n",
       "    </tr>\n",
       "  </thead>\n",
       "  <tbody>\n",
       "    <tr>\n",
       "      <th>0</th>\n",
       "      <td>Kuud kokku</td>\n",
       "      <td>3323</td>\n",
       "      <td>3199</td>\n",
       "      <td>2790</td>\n",
       "      <td>2555</td>\n",
       "      <td>2554</td>\n",
       "      <td>14421</td>\n",
       "    </tr>\n",
       "    <tr>\n",
       "      <th>1</th>\n",
       "      <td>Jaanuar</td>\n",
       "      <td>240</td>\n",
       "      <td>242</td>\n",
       "      <td>225</td>\n",
       "      <td>204</td>\n",
       "      <td>113</td>\n",
       "      <td>1024</td>\n",
       "    </tr>\n",
       "    <tr>\n",
       "      <th>2</th>\n",
       "      <td>Veebruar</td>\n",
       "      <td>259</td>\n",
       "      <td>237</td>\n",
       "      <td>217</td>\n",
       "      <td>199</td>\n",
       "      <td>133</td>\n",
       "      <td>1045</td>\n",
       "    </tr>\n",
       "    <tr>\n",
       "      <th>3</th>\n",
       "      <td>Märts</td>\n",
       "      <td>303</td>\n",
       "      <td>259</td>\n",
       "      <td>250</td>\n",
       "      <td>195</td>\n",
       "      <td>141</td>\n",
       "      <td>1148</td>\n",
       "    </tr>\n",
       "    <tr>\n",
       "      <th>4</th>\n",
       "      <td>Aprill</td>\n",
       "      <td>250</td>\n",
       "      <td>247</td>\n",
       "      <td>206</td>\n",
       "      <td>104</td>\n",
       "      <td>154</td>\n",
       "      <td>961</td>\n",
       "    </tr>\n",
       "    <tr>\n",
       "      <th>5</th>\n",
       "      <td>Mai</td>\n",
       "      <td>320</td>\n",
       "      <td>267</td>\n",
       "      <td>240</td>\n",
       "      <td>119</td>\n",
       "      <td>174</td>\n",
       "      <td>1120</td>\n",
       "    </tr>\n",
       "    <tr>\n",
       "      <th>6</th>\n",
       "      <td>Juuni</td>\n",
       "      <td>247</td>\n",
       "      <td>274</td>\n",
       "      <td>206</td>\n",
       "      <td>203</td>\n",
       "      <td>246</td>\n",
       "      <td>1176</td>\n",
       "    </tr>\n",
       "    <tr>\n",
       "      <th>7</th>\n",
       "      <td>Juuli</td>\n",
       "      <td>242</td>\n",
       "      <td>265</td>\n",
       "      <td>235</td>\n",
       "      <td>280</td>\n",
       "      <td>404</td>\n",
       "      <td>1426</td>\n",
       "    </tr>\n",
       "    <tr>\n",
       "      <th>8</th>\n",
       "      <td>August</td>\n",
       "      <td>274</td>\n",
       "      <td>244</td>\n",
       "      <td>240</td>\n",
       "      <td>248</td>\n",
       "      <td>376</td>\n",
       "      <td>1382</td>\n",
       "    </tr>\n",
       "    <tr>\n",
       "      <th>9</th>\n",
       "      <td>September</td>\n",
       "      <td>292</td>\n",
       "      <td>283</td>\n",
       "      <td>247</td>\n",
       "      <td>280</td>\n",
       "      <td>221</td>\n",
       "      <td>1323</td>\n",
       "    </tr>\n",
       "    <tr>\n",
       "      <th>10</th>\n",
       "      <td>Oktoober</td>\n",
       "      <td>289</td>\n",
       "      <td>312</td>\n",
       "      <td>268</td>\n",
       "      <td>241</td>\n",
       "      <td>187</td>\n",
       "      <td>1297</td>\n",
       "    </tr>\n",
       "    <tr>\n",
       "      <th>11</th>\n",
       "      <td>November</td>\n",
       "      <td>309</td>\n",
       "      <td>282</td>\n",
       "      <td>222</td>\n",
       "      <td>244</td>\n",
       "      <td>175</td>\n",
       "      <td>1232</td>\n",
       "    </tr>\n",
       "    <tr>\n",
       "      <th>12</th>\n",
       "      <td>Detsember</td>\n",
       "      <td>298</td>\n",
       "      <td>287</td>\n",
       "      <td>234</td>\n",
       "      <td>238</td>\n",
       "      <td>195</td>\n",
       "      <td>1252</td>\n",
       "    </tr>\n",
       "  </tbody>\n",
       "</table>\n",
       "</div>"
      ],
      "text/plain": [
       "   Lahutamiskuu  2017  2018  2019  2020  2021  Aastad kokku\n",
       "0    Kuud kokku  3323  3199  2790  2555  2554         14421\n",
       "1       Jaanuar   240   242   225   204   113          1024\n",
       "2      Veebruar   259   237   217   199   133          1045\n",
       "3         Märts   303   259   250   195   141          1148\n",
       "4        Aprill   250   247   206   104   154           961\n",
       "5           Mai   320   267   240   119   174          1120\n",
       "6         Juuni   247   274   206   203   246          1176\n",
       "7         Juuli   242   265   235   280   404          1426\n",
       "8        August   274   244   240   248   376          1382\n",
       "9     September   292   283   247   280   221          1323\n",
       "10     Oktoober   289   312   268   241   187          1297\n",
       "11     November   309   282   222   244   175          1232\n",
       "12    Detsember   298   287   234   238   195          1252"
      ]
     },
     "execution_count": 18,
     "metadata": {},
     "output_type": "execute_result"
    }
   ],
   "source": [
    "data"
   ]
  },
  {
   "cell_type": "code",
   "execution_count": 25,
   "id": "da89ca8c",
   "metadata": {},
   "outputs": [],
   "source": [
    "data1 = data.copy()"
   ]
  },
  {
   "cell_type": "code",
   "execution_count": 29,
   "id": "cdeeb0c0",
   "metadata": {},
   "outputs": [],
   "source": [
    "data1 = data1.drop(index = 0)"
   ]
  },
  {
   "cell_type": "code",
   "execution_count": 35,
   "id": "8434db19",
   "metadata": {
    "collapsed": true
   },
   "outputs": [
    {
     "data": {
      "text/plain": [
       "<AxesSubplot:xlabel='Lahutamiskuu'>"
      ]
     },
     "execution_count": 35,
     "metadata": {},
     "output_type": "execute_result"
    },
    {
     "data": {
      "image/png": "[encoded data removed]",
      "text/plain": [
       "<Figure size 720x504 with 1 Axes>"
      ]
     },
     "metadata": {
      "needs_background": "light"
     },
     "output_type": "display_data"
    }
   ],
   "source": [
    "data1.plot(y = ['Aastad kokku'], x = 'Lahutamiskuu', figsize = (10,7))"
   ]
  },
  {
   "cell_type": "markdown",
   "id": "5f079c4c",
   "metadata": {},
   "source": [
    "## Abielu kestus"
   ]
  },
  {
   "cell_type": "code",
   "execution_count": 38,
   "id": "dbcc91cb",
   "metadata": {},
   "outputs": [],
   "source": [
    "kestus = pd.read_csv('RV291_kestusprofiiliks.csv')"
   ]
  },
  {
   "cell_type": "code",
   "execution_count": 39,
   "id": "0fd830f7",
   "metadata": {
    "scrolled": true
   },
   "outputs": [
    {
     "data": {
      "text/html": [
       "<div>\n",
       "<style scoped>\n",
       "    .dataframe tbody tr th:only-of-type {\n",
       "        vertical-align: middle;\n",
       "    }\n",
       "\n",
       "    .dataframe tbody tr th {\n",
       "        vertical-align: top;\n",
       "    }\n",
       "\n",
       "    .dataframe thead th {\n",
       "        text-align: right;\n",
       "    }\n",
       "</style>\n",
       "<table border=\"1\" class=\"dataframe\">\n",
       "  <thead>\n",
       "    <tr style=\"text-align: right;\">\n",
       "      <th></th>\n",
       "      <th>Aasta</th>\n",
       "      <th>Alla 1 aasta</th>\n",
       "      <th>1 aasta</th>\n",
       "      <th>2 aastat</th>\n",
       "      <th>1-2 aastat</th>\n",
       "      <th>3 aastat</th>\n",
       "      <th>4 aastat</th>\n",
       "      <th>3-4 aastat</th>\n",
       "      <th>5-9 aastat</th>\n",
       "      <th>10-14 aastat</th>\n",
       "      <th>15-19 aastat</th>\n",
       "      <th>10-19 aastat</th>\n",
       "      <th>20 ja enam aastat</th>\n",
       "    </tr>\n",
       "  </thead>\n",
       "  <tbody>\n",
       "    <tr>\n",
       "      <th>0</th>\n",
       "      <td>2017</td>\n",
       "      <td>94</td>\n",
       "      <td>193</td>\n",
       "      <td>226</td>\n",
       "      <td>419</td>\n",
       "      <td>214</td>\n",
       "      <td>169</td>\n",
       "      <td>383</td>\n",
       "      <td>752</td>\n",
       "      <td>510</td>\n",
       "      <td>308</td>\n",
       "      <td>818</td>\n",
       "      <td>834</td>\n",
       "    </tr>\n",
       "    <tr>\n",
       "      <th>1</th>\n",
       "      <td>2018</td>\n",
       "      <td>67</td>\n",
       "      <td>165</td>\n",
       "      <td>167</td>\n",
       "      <td>332</td>\n",
       "      <td>186</td>\n",
       "      <td>177</td>\n",
       "      <td>363</td>\n",
       "      <td>559</td>\n",
       "      <td>442</td>\n",
       "      <td>226</td>\n",
       "      <td>668</td>\n",
       "      <td>602</td>\n",
       "    </tr>\n",
       "    <tr>\n",
       "      <th>2</th>\n",
       "      <td>2019</td>\n",
       "      <td>72</td>\n",
       "      <td>158</td>\n",
       "      <td>174</td>\n",
       "      <td>332</td>\n",
       "      <td>172</td>\n",
       "      <td>155</td>\n",
       "      <td>327</td>\n",
       "      <td>606</td>\n",
       "      <td>386</td>\n",
       "      <td>239</td>\n",
       "      <td>625</td>\n",
       "      <td>560</td>\n",
       "    </tr>\n",
       "    <tr>\n",
       "      <th>3</th>\n",
       "      <td>2020</td>\n",
       "      <td>68</td>\n",
       "      <td>148</td>\n",
       "      <td>174</td>\n",
       "      <td>322</td>\n",
       "      <td>141</td>\n",
       "      <td>160</td>\n",
       "      <td>301</td>\n",
       "      <td>604</td>\n",
       "      <td>420</td>\n",
       "      <td>285</td>\n",
       "      <td>705</td>\n",
       "      <td>536</td>\n",
       "    </tr>\n",
       "    <tr>\n",
       "      <th>4</th>\n",
       "      <td>2021</td>\n",
       "      <td>83</td>\n",
       "      <td>131</td>\n",
       "      <td>191</td>\n",
       "      <td>322</td>\n",
       "      <td>168</td>\n",
       "      <td>163</td>\n",
       "      <td>331</td>\n",
       "      <td>636</td>\n",
       "      <td>386</td>\n",
       "      <td>279</td>\n",
       "      <td>665</td>\n",
       "      <td>482</td>\n",
       "    </tr>\n",
       "  </tbody>\n",
       "</table>\n",
       "</div>"
      ],
      "text/plain": [
       "   Aasta  Alla 1 aasta  1 aasta  2 aastat  1-2 aastat  3 aastat  4 aastat  \\\n",
       "0   2017            94      193       226         419       214       169   \n",
       "1   2018            67      165       167         332       186       177   \n",
       "2   2019            72      158       174         332       172       155   \n",
       "3   2020            68      148       174         322       141       160   \n",
       "4   2021            83      131       191         322       168       163   \n",
       "\n",
       "   3-4 aastat  5-9 aastat  10-14 aastat  15-19 aastat  10-19 aastat  \\\n",
       "0         383         752           510           308           818   \n",
       "1         363         559           442           226           668   \n",
       "2         327         606           386           239           625   \n",
       "3         301         604           420           285           705   \n",
       "4         331         636           386           279           665   \n",
       "\n",
       "   20 ja enam aastat  \n",
       "0                834  \n",
       "1                602  \n",
       "2                560  \n",
       "3                536  \n",
       "4                482  "
      ]
     },
     "execution_count": 39,
     "metadata": {},
     "output_type": "execute_result"
    }
   ],
   "source": [
    "kestus"
   ]
  },
  {
   "cell_type": "code",
   "execution_count": 40,
   "id": "03d0b701",
   "metadata": {},
   "outputs": [],
   "source": [
    "kestus[\"0-4 aastat\"] = kestus['1 aasta'].astype(int) + kestus[\"Alla 1 aasta\"] + kestus[\"2 aastat\"] + kestus[\"3 aastat\"] + kestus[\"4 aastat\"]"
   ]
  },
  {
   "cell_type": "code",
   "execution_count": 64,
   "id": "8dc3564e",
   "metadata": {},
   "outputs": [],
   "source": [
    "essaks = kestus['0-4 aastat']\n",
    "kestus = kestus.drop(columns = ['0-4 aastat'])\n",
    "kestus.insert(0, '0-4 aastat', essaks)"
   ]
  },
  {
   "cell_type": "code",
   "execution_count": 65,
   "id": "7489ad5f",
   "metadata": {},
   "outputs": [],
   "source": [
    "kestus1 = kestus.transpose()"
   ]
  },
  {
   "cell_type": "code",
   "execution_count": 66,
   "id": "7eae3bda",
   "metadata": {},
   "outputs": [],
   "source": [
    "kestus1 = kestus1.drop(index = 'Aasta')"
   ]
  },
  {
   "cell_type": "code",
   "execution_count": 67,
   "id": "6d3fb162",
   "metadata": {},
   "outputs": [
    {
     "data": {
      "text/html": [
       "<div>\n",
       "<style scoped>\n",
       "    .dataframe tbody tr th:only-of-type {\n",
       "        vertical-align: middle;\n",
       "    }\n",
       "\n",
       "    .dataframe tbody tr th {\n",
       "        vertical-align: top;\n",
       "    }\n",
       "\n",
       "    .dataframe thead th {\n",
       "        text-align: right;\n",
       "    }\n",
       "</style>\n",
       "<table border=\"1\" class=\"dataframe\">\n",
       "  <thead>\n",
       "    <tr style=\"text-align: right;\">\n",
       "      <th></th>\n",
       "      <th>0</th>\n",
       "      <th>1</th>\n",
       "      <th>2</th>\n",
       "      <th>3</th>\n",
       "      <th>4</th>\n",
       "    </tr>\n",
       "  </thead>\n",
       "  <tbody>\n",
       "    <tr>\n",
       "      <th>0-4 aastat</th>\n",
       "      <td>896</td>\n",
       "      <td>762</td>\n",
       "      <td>731</td>\n",
       "      <td>691</td>\n",
       "      <td>736</td>\n",
       "    </tr>\n",
       "    <tr>\n",
       "      <th>Alla 1 aasta</th>\n",
       "      <td>94</td>\n",
       "      <td>67</td>\n",
       "      <td>72</td>\n",
       "      <td>68</td>\n",
       "      <td>83</td>\n",
       "    </tr>\n",
       "    <tr>\n",
       "      <th>1 aasta</th>\n",
       "      <td>193</td>\n",
       "      <td>165</td>\n",
       "      <td>158</td>\n",
       "      <td>148</td>\n",
       "      <td>131</td>\n",
       "    </tr>\n",
       "    <tr>\n",
       "      <th>2 aastat</th>\n",
       "      <td>226</td>\n",
       "      <td>167</td>\n",
       "      <td>174</td>\n",
       "      <td>174</td>\n",
       "      <td>191</td>\n",
       "    </tr>\n",
       "    <tr>\n",
       "      <th>1-2 aastat</th>\n",
       "      <td>419</td>\n",
       "      <td>332</td>\n",
       "      <td>332</td>\n",
       "      <td>322</td>\n",
       "      <td>322</td>\n",
       "    </tr>\n",
       "    <tr>\n",
       "      <th>3 aastat</th>\n",
       "      <td>214</td>\n",
       "      <td>186</td>\n",
       "      <td>172</td>\n",
       "      <td>141</td>\n",
       "      <td>168</td>\n",
       "    </tr>\n",
       "    <tr>\n",
       "      <th>4 aastat</th>\n",
       "      <td>169</td>\n",
       "      <td>177</td>\n",
       "      <td>155</td>\n",
       "      <td>160</td>\n",
       "      <td>163</td>\n",
       "    </tr>\n",
       "    <tr>\n",
       "      <th>3-4 aastat</th>\n",
       "      <td>383</td>\n",
       "      <td>363</td>\n",
       "      <td>327</td>\n",
       "      <td>301</td>\n",
       "      <td>331</td>\n",
       "    </tr>\n",
       "    <tr>\n",
       "      <th>5-9 aastat</th>\n",
       "      <td>752</td>\n",
       "      <td>559</td>\n",
       "      <td>606</td>\n",
       "      <td>604</td>\n",
       "      <td>636</td>\n",
       "    </tr>\n",
       "    <tr>\n",
       "      <th>10-14 aastat</th>\n",
       "      <td>510</td>\n",
       "      <td>442</td>\n",
       "      <td>386</td>\n",
       "      <td>420</td>\n",
       "      <td>386</td>\n",
       "    </tr>\n",
       "    <tr>\n",
       "      <th>15-19 aastat</th>\n",
       "      <td>308</td>\n",
       "      <td>226</td>\n",
       "      <td>239</td>\n",
       "      <td>285</td>\n",
       "      <td>279</td>\n",
       "    </tr>\n",
       "    <tr>\n",
       "      <th>10-19 aastat</th>\n",
       "      <td>818</td>\n",
       "      <td>668</td>\n",
       "      <td>625</td>\n",
       "      <td>705</td>\n",
       "      <td>665</td>\n",
       "    </tr>\n",
       "    <tr>\n",
       "      <th>20 ja enam aastat</th>\n",
       "      <td>834</td>\n",
       "      <td>602</td>\n",
       "      <td>560</td>\n",
       "      <td>536</td>\n",
       "      <td>482</td>\n",
       "    </tr>\n",
       "  </tbody>\n",
       "</table>\n",
       "</div>"
      ],
      "text/plain": [
       "                     0    1    2    3    4\n",
       "0-4 aastat         896  762  731  691  736\n",
       "Alla 1 aasta        94   67   72   68   83\n",
       "1 aasta            193  165  158  148  131\n",
       "2 aastat           226  167  174  174  191\n",
       "1-2 aastat         419  332  332  322  322\n",
       "3 aastat           214  186  172  141  168\n",
       "4 aastat           169  177  155  160  163\n",
       "3-4 aastat         383  363  327  301  331\n",
       "5-9 aastat         752  559  606  604  636\n",
       "10-14 aastat       510  442  386  420  386\n",
       "15-19 aastat       308  226  239  285  279\n",
       "10-19 aastat       818  668  625  705  665\n",
       "20 ja enam aastat  834  602  560  536  482"
      ]
     },
     "execution_count": 67,
     "metadata": {},
     "output_type": "execute_result"
    }
   ],
   "source": [
    "kestus1"
   ]
  },
  {
   "cell_type": "code",
   "execution_count": 68,
   "id": "43be78a3",
   "metadata": {},
   "outputs": [],
   "source": [
    "kestus1[\"Kokku\"] = kestus1[0].astype(int) + kestus1[1] + kestus1[2] + kestus1[3] + kestus1[4]"
   ]
  },
  {
   "cell_type": "code",
   "execution_count": 69,
   "id": "f9325d22",
   "metadata": {},
   "outputs": [],
   "source": [
    "kestus1= kestus1.drop(index = ['Alla 1 aasta', '1 aasta', '2 aastat', '1-2 aastat', '3 aastat', '4 aastat', '3-4 aastat'])"
   ]
  },
  {
   "cell_type": "code",
   "execution_count": 70,
   "id": "eda80b09",
   "metadata": {
    "scrolled": true
   },
   "outputs": [
    {
     "data": {
      "text/plain": [
       "<AxesSubplot:>"
      ]
     },
     "execution_count": 70,
     "metadata": {},
     "output_type": "execute_result"
    },
    {
     "data": {
      "image/png": "[encoded data removed]",
      "text/plain": [
       "<Figure size 720x360 with 1 Axes>"
      ]
     },
     "metadata": {
      "needs_background": "light"
     },
     "output_type": "display_data"
    }
   ],
   "source": [
    "kestus1.plot(y = 'Kokku', figsize = (10,5))"
   ]
  },
  {
   "cell_type": "code",
   "execution_count": 71,
   "id": "a933fae3",
   "metadata": {},
   "outputs": [
    {
     "data": {
      "text/html": [
       "<div>\n",
       "<style scoped>\n",
       "    .dataframe tbody tr th:only-of-type {\n",
       "        vertical-align: middle;\n",
       "    }\n",
       "\n",
       "    .dataframe tbody tr th {\n",
       "        vertical-align: top;\n",
       "    }\n",
       "\n",
       "    .dataframe thead th {\n",
       "        text-align: right;\n",
       "    }\n",
       "</style>\n",
       "<table border=\"1\" class=\"dataframe\">\n",
       "  <thead>\n",
       "    <tr style=\"text-align: right;\">\n",
       "      <th></th>\n",
       "      <th>0</th>\n",
       "      <th>1</th>\n",
       "      <th>2</th>\n",
       "      <th>3</th>\n",
       "      <th>4</th>\n",
       "      <th>Kokku</th>\n",
       "    </tr>\n",
       "  </thead>\n",
       "  <tbody>\n",
       "    <tr>\n",
       "      <th>0-4 aastat</th>\n",
       "      <td>896</td>\n",
       "      <td>762</td>\n",
       "      <td>731</td>\n",
       "      <td>691</td>\n",
       "      <td>736</td>\n",
       "      <td>3816</td>\n",
       "    </tr>\n",
       "    <tr>\n",
       "      <th>5-9 aastat</th>\n",
       "      <td>752</td>\n",
       "      <td>559</td>\n",
       "      <td>606</td>\n",
       "      <td>604</td>\n",
       "      <td>636</td>\n",
       "      <td>3157</td>\n",
       "    </tr>\n",
       "    <tr>\n",
       "      <th>10-14 aastat</th>\n",
       "      <td>510</td>\n",
       "      <td>442</td>\n",
       "      <td>386</td>\n",
       "      <td>420</td>\n",
       "      <td>386</td>\n",
       "      <td>2144</td>\n",
       "    </tr>\n",
       "    <tr>\n",
       "      <th>15-19 aastat</th>\n",
       "      <td>308</td>\n",
       "      <td>226</td>\n",
       "      <td>239</td>\n",
       "      <td>285</td>\n",
       "      <td>279</td>\n",
       "      <td>1337</td>\n",
       "    </tr>\n",
       "    <tr>\n",
       "      <th>10-19 aastat</th>\n",
       "      <td>818</td>\n",
       "      <td>668</td>\n",
       "      <td>625</td>\n",
       "      <td>705</td>\n",
       "      <td>665</td>\n",
       "      <td>3481</td>\n",
       "    </tr>\n",
       "    <tr>\n",
       "      <th>20 ja enam aastat</th>\n",
       "      <td>834</td>\n",
       "      <td>602</td>\n",
       "      <td>560</td>\n",
       "      <td>536</td>\n",
       "      <td>482</td>\n",
       "      <td>3014</td>\n",
       "    </tr>\n",
       "  </tbody>\n",
       "</table>\n",
       "</div>"
      ],
      "text/plain": [
       "                     0    1    2    3    4  Kokku\n",
       "0-4 aastat         896  762  731  691  736   3816\n",
       "5-9 aastat         752  559  606  604  636   3157\n",
       "10-14 aastat       510  442  386  420  386   2144\n",
       "15-19 aastat       308  226  239  285  279   1337\n",
       "10-19 aastat       818  668  625  705  665   3481\n",
       "20 ja enam aastat  834  602  560  536  482   3014"
      ]
     },
     "execution_count": 71,
     "metadata": {},
     "output_type": "execute_result"
    }
   ],
   "source": [
    "kestus1"
   ]
  },
  {
   "cell_type": "markdown",
   "id": "0670dcc5",
   "metadata": {},
   "source": [
    "## Maakond"
   ]
  },
  {
   "cell_type": "code",
   "execution_count": null,
   "id": "724564ec",
   "metadata": {},
   "outputs": [],
   "source": []
  },
  {
   "cell_type": "markdown",
   "id": "f61a4dfb",
   "metadata": {},
   "source": [
    "## Ühiste laste arv"
   ]
  },
  {
   "cell_type": "code",
   "execution_count": 72,
   "id": "6b10f119",
   "metadata": {},
   "outputs": [],
   "source": [
    "lapsed = pd.read_csv('RV351U_lapsedprofiiliks.csv')"
   ]
  },
  {
   "cell_type": "code",
   "execution_count": 75,
   "id": "f69815d3",
   "metadata": {},
   "outputs": [
    {
     "data": {
      "text/html": [
       "<div>\n",
       "<style scoped>\n",
       "    .dataframe tbody tr th:only-of-type {\n",
       "        vertical-align: middle;\n",
       "    }\n",
       "\n",
       "    .dataframe tbody tr th {\n",
       "        vertical-align: top;\n",
       "    }\n",
       "\n",
       "    .dataframe thead th {\n",
       "        text-align: right;\n",
       "    }\n",
       "</style>\n",
       "<table border=\"1\" class=\"dataframe\">\n",
       "  <thead>\n",
       "    <tr style=\"text-align: right;\">\n",
       "      <th></th>\n",
       "      <th>Ühiste alaealiste laste arv</th>\n",
       "      <th>2017</th>\n",
       "      <th>2018</th>\n",
       "      <th>2019</th>\n",
       "      <th>2020</th>\n",
       "      <th>2021</th>\n",
       "      <th>Aastad kokku</th>\n",
       "    </tr>\n",
       "  </thead>\n",
       "  <tbody>\n",
       "    <tr>\n",
       "      <th>0</th>\n",
       "      <td>Kokku</td>\n",
       "      <td>1682</td>\n",
       "      <td>1559</td>\n",
       "      <td>1395</td>\n",
       "      <td>1330</td>\n",
       "      <td>1300</td>\n",
       "      <td>7266</td>\n",
       "    </tr>\n",
       "    <tr>\n",
       "      <th>1</th>\n",
       "      <td>0 last</td>\n",
       "      <td>737</td>\n",
       "      <td>692</td>\n",
       "      <td>587</td>\n",
       "      <td>281</td>\n",
       "      <td>491</td>\n",
       "      <td>2788</td>\n",
       "    </tr>\n",
       "    <tr>\n",
       "      <th>2</th>\n",
       "      <td>1 laps</td>\n",
       "      <td>456</td>\n",
       "      <td>376</td>\n",
       "      <td>361</td>\n",
       "      <td>364</td>\n",
       "      <td>346</td>\n",
       "      <td>1903</td>\n",
       "    </tr>\n",
       "    <tr>\n",
       "      <th>3</th>\n",
       "      <td>2 last</td>\n",
       "      <td>378</td>\n",
       "      <td>386</td>\n",
       "      <td>353</td>\n",
       "      <td>452</td>\n",
       "      <td>346</td>\n",
       "      <td>1915</td>\n",
       "    </tr>\n",
       "    <tr>\n",
       "      <th>4</th>\n",
       "      <td>3 last</td>\n",
       "      <td>88</td>\n",
       "      <td>85</td>\n",
       "      <td>79</td>\n",
       "      <td>182</td>\n",
       "      <td>96</td>\n",
       "      <td>530</td>\n",
       "    </tr>\n",
       "    <tr>\n",
       "      <th>5</th>\n",
       "      <td>4 last</td>\n",
       "      <td>18</td>\n",
       "      <td>15</td>\n",
       "      <td>15</td>\n",
       "      <td>32</td>\n",
       "      <td>18</td>\n",
       "      <td>98</td>\n",
       "    </tr>\n",
       "    <tr>\n",
       "      <th>6</th>\n",
       "      <td>5 või enam last</td>\n",
       "      <td>5</td>\n",
       "      <td>4</td>\n",
       "      <td>0</td>\n",
       "      <td>19</td>\n",
       "      <td>3</td>\n",
       "      <td>31</td>\n",
       "    </tr>\n",
       "  </tbody>\n",
       "</table>\n",
       "</div>"
      ],
      "text/plain": [
       "  Ühiste alaealiste laste arv  2017  2018  2019  2020  2021  Aastad kokku\n",
       "0                       Kokku  1682  1559  1395  1330  1300          7266\n",
       "1                      0 last   737   692   587   281   491          2788\n",
       "2                      1 laps   456   376   361   364   346          1903\n",
       "3                      2 last   378   386   353   452   346          1915\n",
       "4                      3 last    88    85    79   182    96           530\n",
       "5                      4 last    18    15    15    32    18            98\n",
       "6             5 või enam last     5     4     0    19     3            31"
      ]
     },
     "execution_count": 75,
     "metadata": {},
     "output_type": "execute_result"
    }
   ],
   "source": [
    "lapsed"
   ]
  },
  {
   "cell_type": "code",
   "execution_count": 74,
   "id": "63cd25d5",
   "metadata": {},
   "outputs": [],
   "source": [
    "lapsed[\"Aastad kokku\"] = lapsed['2017'].astype(int) + lapsed[\"2018\"] + lapsed[\"2019\"] + lapsed[\"2020\"] + lapsed[\"2021\"]"
   ]
  },
  {
   "cell_type": "code",
   "execution_count": null,
   "id": "a41482dc",
   "metadata": {},
   "outputs": [],
   "source": []
  },
  {
   "cell_type": "code",
   "execution_count": null,
   "id": "9af7edec",
   "metadata": {},
   "outputs": [],
   "source": []
  },
  {
   "cell_type": "markdown",
   "id": "c67ea2d7",
   "metadata": {},
   "source": [
    "## Vanuserühm"
   ]
  },
  {
   "cell_type": "code",
   "execution_count": null,
   "id": "8ebeb5c5",
   "metadata": {},
   "outputs": [],
   "source": []
  },
  {
   "cell_type": "markdown",
   "id": "0008a4d2",
   "metadata": {},
   "source": [
    "## Esma- või korduvlahutaja?"
   ]
  },
  {
   "cell_type": "code",
   "execution_count": null,
   "id": "c9bfcfa9",
   "metadata": {},
   "outputs": [],
   "source": []
  }
 ],
 "metadata": {
  "kernelspec": {
   "display_name": "Python 3 (ipykernel)",
   "language": "python",
   "name": "python3"
  },
  "language_info": {
   "codemirror_mode": {
    "name": "ipython",
    "version": 3
   },
   "file_extension": ".py",
   "mimetype": "text/x-python",
   "name": "python",
   "nbconvert_exporter": "python",
   "pygments_lexer": "ipython3",
   "version": "3.9.12"
  }
 },
 "nbformat": 4,
 "nbformat_minor": 5
}
