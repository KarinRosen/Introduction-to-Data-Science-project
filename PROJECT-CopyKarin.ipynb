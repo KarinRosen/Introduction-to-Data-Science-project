{
 "cells": [
  {
   "cell_type": "code",
   "execution_count": null,
   "id": "3511b283",
   "metadata": {},
   "outputs": [],
   "source": [
    "import pandas as pd"
   ]
  },
  {
   "cell_type": "code",
   "execution_count": null,
   "id": "d33badfd",
   "metadata": {},
   "outputs": [],
   "source": [
    "sots_lahutus = pd.read_csv(\"sots_lahutus.csv\")\n",
    "pikkus_lahutuseni = pd.read_csv(\"abielu_pikkus.csv\")\n",
    "maakond_lahutus = pd.read_csv(\"maakond_lahutus.csv\")\n",
    "kuud_maakonnad_lahutus = pd.read_csv(\"kuud_maakonnad_lahutus.csv\")\n",
    "abielud_kuud_maakonnad = pd.read_csv(\"abielud_kuud_maakonnad.csv\")\n",
    "abielud_vanused_sood = pd.read_csv(\"abielud_vanused_sood_maakonnad.csv\")\n",
    "sots_abielu = pd.read_csv(\"sots_abielud.csv\")"
   ]
  },
  {
   "cell_type": "code",
   "execution_count": null,
   "id": "00a35a1a",
   "metadata": {
    "scrolled": false
   },
   "outputs": [],
   "source": [
    "sots_lahutus['Elukoht'] = sots_lahutus['Elukoht'].str.replace('..linnaline ja väikelinnaline asustuspiirkond\\xa0\\xa0','Linnaline ja väikelinnaline asustuspiirkond')\n",
    "sots_lahutus['Elukoht'] = sots_lahutus['Elukoht'].str.replace('..maaline asustuspiirkond','Maaline asustuspiirkond')\n",
    "\n",
    "pikkus_lahutuseni['Elukoht'] = pikkus_lahutuseni['Elukoht'].str.replace('linnaline ja väikelinnaline asustuspiirkond','Linnaline ja väikelinnaline asustuspiirkond')\n",
    "pikkus_lahutuseni['Elukoht'] = pikkus_lahutuseni['Elukoht'].str.replace('maaline asustuspiirkond','Maaline asustuspiirkond')\n",
    "\n",
    "sots_lahutus = sots_lahutus.rename(columns={\"Elukoht\":\"Asustuspiirkond\"})\n",
    "pikkus_lahutuseni = pikkus_lahutuseni.rename(columns={\"Elukoht\":\"Asustuspiirkond\"})\n",
    "maakond_lahutus = maakond_lahutus.rename(columns= {\"Asustuspiirkonna liik\" : \"Asustuspiirkond\"})"
   ]
  },
  {
   "cell_type": "code",
   "execution_count": null,
   "id": "82e095a0",
   "metadata": {},
   "outputs": [],
   "source": [
    "pikkus2017 = pikkus_lahutuseni.query(\"Aasta == 2017 & Sugu == 'Mehed'\")\n",
    "pikkus2017 = pikkus2017.drop(columns=[\"Sugu\", \"Aasta\"])\n",
    "\n",
    "sots2017 = sots_lahutus.query(\"Sugu == 'Mehed'\")\n",
    "sots2017 = sots2017.drop(columns=[\"Sugu\", \"Aasta\"])"
   ]
  },
  {
   "cell_type": "code",
   "execution_count": null,
   "id": "03f33d65",
   "metadata": {},
   "outputs": [],
   "source": [
    "kokku = sots2017.merge(pikkus2017, on=[\"Asustuspiirkond\", \"Vanuserühm\", \"Kokku\"])\n",
    "\n",
    "maaline = kokku.query(\"Asustuspiirkond == 'Maaline asustuspiirkond'\")\n",
    "linnaline = kokku.query(\"Asustuspiirkond == 'Linnaline ja väikelinnaline asustuspiirkond'\")"
   ]
  },
  {
   "cell_type": "code",
   "execution_count": null,
   "id": "4dcf811e",
   "metadata": {
    "scrolled": true
   },
   "outputs": [],
   "source": [
    "maakond_lahutus['Mehe elukoht'] = maakond_lahutus['Mehe elukoht'].str.replace('..Tallinn','Tallinn')\n",
    "kuud_maakonnad_lahutus['Mehe elukoht'] = kuud_maakonnad_lahutus['Mehe elukoht'].str.replace('..Tallinn','Tallinn')\n",
    "maakond_lahutus = maakond_lahutus.rename(columns={\"Mehe elukoht\":\"Elukoht\"})\n",
    "kuud_maakonnad_lahutus = kuud_maakonnad_lahutus.rename(columns={\"Mehe elukoht\":\"Elukoht\"})\n",
    "kuud_maakonnad_lahutus = kuud_maakonnad_lahutus.rename(columns={\"Kuud kokku\":\"Lahutused kokku\"})"
   ]
  },
  {
   "cell_type": "code",
   "execution_count": null,
   "id": "b932f312",
   "metadata": {},
   "outputs": [],
   "source": [
    "kuud_maakonnad_koos = kuud_maakonnad_lahutus.assign(Lastetu = maakond_lahutus[\"0 last\"],\n",
    "                                  Üks_laps = maakond_lahutus[\"1 laps\"],\n",
    "                                  Kaks_last = maakond_lahutus[\"2 last\"],\n",
    "                                  Kolm_last = maakond_lahutus[\"3 last\"],\n",
    "                                  Neli_last = maakond_lahutus[\"4 last\"],\n",
    "                                  Viis_või_enam_last = maakond_lahutus[\"5 või enam last\"],\n",
    "                                  Teadmata = maakond_lahutus[\"Ühiste laste arv teadmata\"])"
   ]
  },
  {
   "cell_type": "raw",
   "id": "76579c1c",
   "metadata": {
    "scrolled": false
   },
   "source": []
  },
  {
   "cell_type": "code",
   "execution_count": null,
   "id": "dba4c3f9",
   "metadata": {},
   "outputs": [],
   "source": [
    "import matplotlib.pyplot as plt\n",
    "import numpy as np\n",
    "import matplotlib.colors as mcolors\n",
    "from calendar import month_name as mn\n",
    "\n",
    "summad = kuud_maakonnad_koos.groupby(\"Aasta\").sum()\n",
    "summad= summad.drop(columns = [\"Lahutused kokku\"])\n",
    "summadesummad = summad.sum()\n",
    "kuud = mn[1:]\n",
    "print(summad)\n",
    "i = 0\n",
    "\n",
    "colors = ['darksalmon', 'olive', 'plum', 'gray', 'skyblue']\n",
    "y= [1312/5, 1350/5, 1495/5, 1229/5, 1416/5, 1534/5, 1885/5, 1823/5, 1728/5,1681/5,1619/5, 1641/5]\n",
    "\n",
    "for index, row in summad.iterrows():\n",
    "\n",
    "    row.plot( kind = 'line', color = str(colors[i]),  marker='o', markerfacecolor='black',figsize=(30, 10), label=str(index), linewidth=2)\n",
    "    i+=1\n",
    "plt.plot(kuud, y,color = \"red\", marker='o', markerfacecolor='black', label=\"Aastate keskmine\", linewidth=4)\n",
    "\n",
    "plt.legend()\n",
    "plt.show()\n",
    "\n",
    "\n",
    "\n"
   ]
  },
  {
   "cell_type": "markdown",
   "id": "2682eb1d",
   "metadata": {},
   "source": []
  },
  {
   "cell_type": "code",
   "execution_count": null,
   "id": "e83e6599",
   "metadata": {
    "scrolled": true
   },
   "outputs": [],
   "source": [
    "sots_lahutus\n",
    "grupeeritud = sots_lahutus.groupby(\"Asustuspiirkond\").sum()\n",
    "print(grupeeritud)"
   ]
  },
  {
   "cell_type": "markdown",
   "id": "5207d20c",
   "metadata": {},
   "source": []
  },
  {
   "cell_type": "code",
   "execution_count": null,
   "id": "6556c8a2",
   "metadata": {},
   "outputs": [],
   "source": [
    "\n"
   ]
  },
  {
   "cell_type": "code",
   "execution_count": null,
   "id": "cf07827c",
   "metadata": {},
   "outputs": [],
   "source": []
  },
  {
   "cell_type": "code",
   "execution_count": null,
   "id": "67a5aa38",
   "metadata": {},
   "outputs": [],
   "source": []
  },
  {
   "cell_type": "code",
   "execution_count": null,
   "id": "828b02a2",
   "metadata": {},
   "outputs": [],
   "source": []
  },
  {
   "cell_type": "code",
   "execution_count": null,
   "id": "eb31c0bc",
   "metadata": {},
   "outputs": [],
   "source": []
  }
 ],
 "metadata": {
  "kernelspec": {
   "display_name": "Python 3 (ipykernel)",
   "language": "python",
   "name": "python3"
  },
  "language_info": {
   "codemirror_mode": {
    "name": "ipython",
    "version": 3
   },
   "file_extension": ".py",
   "mimetype": "text/x-python",
   "name": "python",
   "nbconvert_exporter": "python",
   "pygments_lexer": "ipython3",
   "version": "3.9.12"
  }
 },
 "nbformat": 4,
 "nbformat_minor": 5
}
