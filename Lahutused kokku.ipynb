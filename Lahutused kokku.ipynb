{
 "cells": [
  {
   "cell_type": "code",
   "execution_count": 1,
   "id": "ea18301f",
   "metadata": {},
   "outputs": [],
   "source": [
    "import pandas as pd"
   ]
  },
  {
   "cell_type": "code",
   "execution_count": 5,
   "id": "f9eb4bac",
   "metadata": {},
   "outputs": [],
   "source": [
    "kuni2017 = pd.read_csv('RV331_lahutused_kuni2017.csv')\n",
    "alates2017 = pd.read_csv('RV331_lahutused_kuni2017.csv')"
   ]
  },
  {
   "cell_type": "code",
   "execution_count": 8,
   "id": "1ce16ac6",
   "metadata": {},
   "outputs": [],
   "source": [
    "lahutused = pd.concat([alates2017, kuni2017], ignore_index=True)"
   ]
  },
  {
   "cell_type": "code",
   "execution_count": 10,
   "id": "7ea522a4",
   "metadata": {},
   "outputs": [],
   "source": [
    "lahutused.to_csv('lahutused.csv')"
   ]
  },
  {
   "cell_type": "code",
   "execution_count": null,
   "id": "34b9a921",
   "metadata": {},
   "outputs": [],
   "source": []
  }
 ],
 "metadata": {
  "kernelspec": {
   "display_name": "Python 3 (ipykernel)",
   "language": "python",
   "name": "python3"
  },
  "language_info": {
   "codemirror_mode": {
    "name": "ipython",
    "version": 3
   },
   "file_extension": ".py",
   "mimetype": "text/x-python",
   "name": "python",
   "nbconvert_exporter": "python",
   "pygments_lexer": "ipython3",
   "version": "3.9.12"
  }
 },
 "nbformat": 4,
 "nbformat_minor": 5
}
